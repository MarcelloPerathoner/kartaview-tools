{
 "cells": [
  {
   "cell_type": "code",
   "execution_count": 31,
   "metadata": {},
   "outputs": [
    {
     "data": {
      "text/plain": [
       "'((-t + t2)*((-t + t2)*(p0*(-t + t1) + p1*(t - t0))/(-t0 + t1) + (t - t0)*(p1*(-t + t2) + p2*(t - t1))/(-t1 + t2))/(-t0 + t2) + (t - t1)*((-t + t3)*(p1*(-t + t2) + p2*(t - t1))/(-t1 + t2) + (t - t1)*(p2*(-t + t3) + p3*(t - t2))/(-t2 + t3))/(-t1 + t3))/(-t1 + t2)'"
      ]
     },
     "execution_count": 31,
     "metadata": {},
     "output_type": "execute_result"
    }
   ],
   "source": [
    "import sympy as sp\n",
    "from sympy import pycode\n",
    "\n",
    "def lerp(xs, ts, t):\n",
    "    \"\"\"Linear interpolation.\n",
    "    \n",
    "    Returns the interpolated value at time *t*,\n",
    "    given the two values *xs* at times *ts*.\n",
    "    \n",
    "    \"\"\"\n",
    "    x_begin, x_end = xs\n",
    "    t_begin, t_end = ts\n",
    "    return (x_begin * (t_end - t) + x_end * (t - t_begin)) / (t_end - t_begin)\n",
    "\n",
    "t = sp.symbols('t')\n",
    "t0, t1, t2, t3 = sp.symbols('t0:4')\n",
    "p0, p1, p2, p3 = sp.symbols('p0:4')\n",
    "\n",
    "A1 = lerp([p0, p1], [t0, t1], t)\n",
    "A2 = lerp([p1, p2], [t1, t2], t)\n",
    "A3 = lerp([p2, p3], [t2, t3], t)\n",
    "\n",
    "B1 = lerp([A1, A2], [t0, t2], t)\n",
    "B2 = lerp([A2, A3], [t1, t3], t)\n",
    "\n",
    "C = lerp([B1, B2], [t1, t2], t)\n",
    "\n",
    "#delta1, delta2, delta3 = sp.symbols('Delta0:3')\n",
    "delta0, delta1, delta2, delta3 = sp.symbols('delta0:4')\n",
    "deltas = {\n",
    "    #t1 - t0: delta1,\n",
    "    #t2 - t1: delta2,\n",
    "    #t3 - t2: delta3,\n",
    "    t - t0: delta0,\n",
    "    t - t1: delta1,\n",
    "    t - t2: delta2,\n",
    "    t - t3: delta3,\n",
    "}\n",
    "\n",
    "pycode(C)\n"
   ]
  },
  {
   "cell_type": "code",
   "execution_count": 32,
   "metadata": {},
   "outputs": [
    {
     "data": {
      "text/plain": [
       "'(delta1*(delta1*(delta2*p3 - delta3*p2)/(-t2 + t3) - delta3*(delta1*p2 - delta2*p1)/(-t1 + t2))/(-t1 + t3) - delta2*(delta0*(delta1*p2 - delta2*p1)/(-t1 + t2) - delta2*(delta0*p1 - delta1*p0)/(-t0 + t1))/(-t0 + t2))/(-t1 + t2)'"
      ]
     },
     "execution_count": 32,
     "metadata": {},
     "output_type": "execute_result"
    }
   ],
   "source": [
    "pycode(C.subs(deltas))"
   ]
  },
  {
   "cell_type": "code",
   "execution_count": 28,
   "metadata": {},
   "outputs": [
    {
     "data": {
      "text/plain": [
       "'((t0 - t1)*(t0 - t2)*(-Delta1*(t1 - t2)*(Delta2*p3 - Delta3*p2) + Delta1*((t1 - t2)*(Delta1*(p2 - p3) - Delta2*p3 + Delta3*p2) + (t2 - t3)*(Delta1*p2 - Delta2*p1 - Delta3*(p1 - p2))) + Delta3*(t2 - t3)*(Delta1*p2 - Delta2*p1)) + (t1 - t3)*(t2 - t3)*(Delta0*(t0 - t1)*(Delta1*p2 - Delta2*p1) - Delta2*(t1 - t2)*(Delta0*p1 - Delta1*p0) - Delta2*((t0 - t1)*(Delta0*(p1 - p2) - Delta1*p2 + Delta2*p1) + (t1 - t2)*(Delta0*p1 - Delta1*p0 - Delta2*(p0 - p1)))))/((t0 - t1)*(t0 - t2)*(t1 - t2)**2*(t1 - t3)*(t2 - t3))'"
      ]
     },
     "execution_count": 28,
     "metadata": {},
     "output_type": "execute_result"
    }
   ],
   "source": [
    "pycode(C.diff(t).subs(deltas).simplify())"
   ]
  },
  {
   "cell_type": "code",
   "execution_count": null,
   "metadata": {},
   "outputs": [],
   "source": []
  }
 ],
 "metadata": {
  "kernelspec": {
   "display_name": "Python 3.10.4 64-bit",
   "language": "python",
   "name": "python3"
  },
  "language_info": {
   "codemirror_mode": {
    "name": "ipython",
    "version": 3
   },
   "file_extension": ".py",
   "mimetype": "text/x-python",
   "name": "python",
   "nbconvert_exporter": "python",
   "pygments_lexer": "ipython3",
   "version": "3.10.4"
  },
  "orig_nbformat": 4,
  "vscode": {
   "interpreter": {
    "hash": "31f2aee4e71d21fbe5cf8b01ff0e069b9275f58929596ceb00d14d90e3e16cd6"
   }
  }
 },
 "nbformat": 4,
 "nbformat_minor": 2
}
